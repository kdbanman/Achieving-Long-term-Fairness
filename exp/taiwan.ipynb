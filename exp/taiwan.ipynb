{
 "cells": [
  {
   "cell_type": "code",
   "execution_count": 1,
   "id": "7666e8fc",
   "metadata": {},
   "outputs": [],
   "source": [
    "import sys\n",
    "import torch\n",
    "sys.path.append('../src')\n",
    "\n",
    "from evaluation import *\n",
    "from taiwan_generator import *\n",
    "from fair_model import FairModel\n",
    "from utils import gen_plot_data, plot_data, combine_tuples\n",
    "from baselines import LR, CvxFairModel, EOFairModel"
   ]
  },
  {
   "cell_type": "code",
   "execution_count": 2,
   "id": "af651c10",
   "metadata": {},
   "outputs": [],
   "source": [
    "# Load dataset\n",
    "S, X, Y, PARAMS = preprocess_data()\n",
    "(s_train, X_train, y_train), (s_test, X_test, y_test) = split_data(S, X, Y)"
   ]
  },
  {
   "cell_type": "code",
   "execution_count": 3,
   "id": "2930eba6",
   "metadata": {},
   "outputs": [],
   "source": [
    "# Build Bank model\n",
    "bank = Bank(params=PARAMS)\n",
    "agent_train = Agent(s_train, X_train, y_train, eps=0.1, base=[0.0, 0.1], seed=2021)\n",
    "agent_test = Agent(s_test, X_test, y_test, eps=0.1, base=[0.0, 0.1], seed=2020)"
   ]
  },
  {
   "cell_type": "code",
   "execution_count": 4,
   "id": "1f316945",
   "metadata": {},
   "outputs": [],
   "source": [
    "# Generate datasets\n",
    "s_train, Xs_train, Ys_train = gen_multi_step_profiles(bank, agent_train, steps=4)\n",
    "s_test, Xs_test, Ys_test = gen_multi_step_profiles(bank, agent_test, steps=4)\n",
    "s_comb, X_comb, Y_comb = combine_tuples(s_train, Xs_train, Ys_train)"
   ]
  },
  {
   "cell_type": "markdown",
   "id": "eeae73d5",
   "metadata": {},
   "source": [
    "### Baseline: LR"
   ]
  },
  {
   "cell_type": "code",
   "execution_count": 5,
   "id": "41a0f664",
   "metadata": {},
   "outputs": [
    {
     "name": "stdout",
     "output_type": "stream",
     "text": [
      "------------------------------ Step 1 - Logistic Regression ------------------------------\n",
      "Acc: 82.8%\n",
      "Short Fairness: 0.015\n",
      "Long fairness: 0.038\n",
      "------------------------------ Step 2 - Logistic Regression ------------------------------\n",
      "Acc: 82.6%\n",
      "Short Fairness: 0.018\n",
      "Long fairness: 0.088\n",
      "------------------------------ Step 3 - Logistic Regression ------------------------------\n",
      "Acc: 84.1%\n",
      "Short Fairness: 0.021\n",
      "Long fairness: 0.243\n",
      "------------------------------ Step 4 - Logistic Regression ------------------------------\n",
      "Acc: 81.6%\n",
      "Short Fairness: 0.012\n",
      "Long fairness: 0.433\n",
      "\n",
      "\n"
     ]
    }
   ],
   "source": [
    "lr = LR(l2_reg=1e-5)\n",
    "lr.train(s_comb, X_comb, Y_comb)\n",
    "\n",
    "_, Xs_te, Ys_te = gen_multi_step_profiles(lr, agent_test, steps=4)\n",
    "OYs_te = generate_y_from_bank(s_test, Xs_te, bank)\n",
    "compute_statistics(s_test, Xs_te, Ys_te, lr, OYs=OYs_te)"
   ]
  },
  {
   "cell_type": "markdown",
   "id": "a3f617ab",
   "metadata": {},
   "source": [
    "### Baseline: FMDP"
   ]
  },
  {
   "cell_type": "code",
   "execution_count": 6,
   "id": "6f152bb9",
   "metadata": {},
   "outputs": [
    {
     "name": "stdout",
     "output_type": "stream",
     "text": [
      "optimal\n",
      "------------------------------ Step 1 - Fair Model with Demographic Parity ------------------------------\n",
      "Acc: 83.0%\n",
      "Short Fairness: 0.063\n",
      "Long fairness: 0.038\n",
      "------------------------------ Step 2 - Fair Model with Demographic Parity ------------------------------\n",
      "Acc: 84.3%\n",
      "Short Fairness: 0.066\n",
      "Long fairness: 0.076\n",
      "------------------------------ Step 3 - Fair Model with Demographic Parity ------------------------------\n",
      "Acc: 84.6%\n",
      "Short Fairness: 0.075\n",
      "Long fairness: 0.223\n",
      "------------------------------ Step 4 - Fair Model with Demographic Parity ------------------------------\n",
      "Acc: 84.1%\n",
      "Short Fairness: 0.069\n",
      "Long fairness: 0.397\n",
      "\n",
      "\n"
     ]
    }
   ],
   "source": [
    "cfm = CvxFairModel(n_features=len(Xs_train[0][0])+2, l2_reg=1e-5, tao=1.6)\n",
    "cfm.train(s_comb, X_comb, Y_comb)\n",
    "\n",
    "_, Xs_te, Ys_te = gen_multi_step_profiles(cfm, agent_test, steps=4)\n",
    "OYs_te = generate_y_from_bank(s_test, Xs_te, bank)\n",
    "compute_statistics(s_test, Xs_te, Ys_te, cfm, OYs=OYs_te)"
   ]
  },
  {
   "cell_type": "markdown",
   "id": "9f856ada",
   "metadata": {},
   "source": [
    "### Baseline: FMEO"
   ]
  },
  {
   "cell_type": "code",
   "execution_count": 7,
   "id": "fa3ba1bb",
   "metadata": {},
   "outputs": [
    {
     "name": "stdout",
     "output_type": "stream",
     "text": [
      "optimal\n",
      "------------------------------ Step 1 - Fair Model with Equal Oppertunity ------------------------------\n",
      "Acc: 82.4%\n",
      "Short Fairness: 0.072\n",
      "Long fairness: 0.006\n",
      "------------------------------ Step 2 - Fair Model with Equal Oppertunity ------------------------------\n",
      "Acc: 83.0%\n",
      "Short Fairness: 0.075\n",
      "Long fairness: 0.045\n",
      "------------------------------ Step 3 - Fair Model with Equal Oppertunity ------------------------------\n",
      "Acc: 83.0%\n",
      "Short Fairness: 0.087\n",
      "Long fairness: 0.156\n",
      "------------------------------ Step 4 - Fair Model with Equal Oppertunity ------------------------------\n",
      "Acc: 81.3%\n",
      "Short Fairness: 0.078\n",
      "Long fairness: 0.295\n",
      "\n",
      "\n"
     ]
    }
   ],
   "source": [
    "eqm = EOFairModel(n_features=len(Xs_train[0][0])+2, l2_reg=1e-5, tao=1.67)\n",
    "eqm.train(s_comb, X_comb, Y_comb)\n",
    "\n",
    "_, Xs_te, Ys_te = gen_multi_step_profiles(eqm, agent_test, steps=4)\n",
    "OYs_te = generate_y_from_bank(s_test, Xs_te, bank)\n",
    "compute_statistics(s_test, Xs_te, Ys_te, eqm, OYs=OYs_te)"
   ]
  },
  {
   "cell_type": "markdown",
   "id": "35e72c2d",
   "metadata": {},
   "source": [
    "### Ours"
   ]
  },
  {
   "cell_type": "code",
   "execution_count": 8,
   "id": "5aa1a629",
   "metadata": {},
   "outputs": [
    {
     "name": "stdout",
     "output_type": "stream",
     "text": [
      "Retraining Done!\n"
     ]
    }
   ],
   "source": [
    "fm = FairModel(n_features=len(Xs_train[0][0])+1, lr=5e-3, l2_reg=1e-5, sf_reg=0.0223, lf_reg=0.715)\n",
    "fm.train(s_train, Xs_train, Ys_train, Xs_train, Ys_train, epochs=1000, plot=False, short_type='neg')\n",
    "\n",
    "num_iters = 30\n",
    "theta_true = fm.params\n",
    "theta_list     = [np.copy(theta_true)]\n",
    "theta_gaps     = []\n",
    "\n",
    "# inital theta\n",
    "theta = np.copy(theta_true)\n",
    "for t in range(num_iters):\n",
    "    # adjust distribution to current theta\n",
    "    _, NXs_train, NYs_train = gen_multi_step_profiles(fm, agent_train, steps=4)\n",
    "    # learn on induced distribution\n",
    "    fm.train(s_train, Xs_train, Ys_train, NXs_train, NYs_train, epochs=10, plot=False, short_type='neg')\n",
    "    \n",
    "    # keep track of statistic\n",
    "    theta_new = fm.params\n",
    "    theta_gaps.append(np.linalg.norm(theta_new - theta))\n",
    "    theta_list.append(np.copy(theta_new))\n",
    "\n",
    "    theta = np.copy(theta_new)\n",
    "print(\"Retraining Done!\")"
   ]
  },
  {
   "cell_type": "code",
   "execution_count": 9,
   "id": "76dd2605",
   "metadata": {},
   "outputs": [
    {
     "name": "stdout",
     "output_type": "stream",
     "text": [
      "------------------------------ Step 1 - Long-term Fair Model ------------------------------\n",
      "Acc: 64.8%\n",
      "Short Fairness: 0.006\n",
      "Long fairness: 0.064\n",
      "------------------------------ Step 2 - Long-term Fair Model ------------------------------\n",
      "Acc: 64.8%\n",
      "Short Fairness: 0.006\n",
      "Long fairness: 0.043\n",
      "------------------------------ Step 3 - Long-term Fair Model ------------------------------\n",
      "Acc: 68.0%\n",
      "Short Fairness: 0.003\n",
      "Long fairness: 0.016\n",
      "------------------------------ Step 4 - Long-term Fair Model ------------------------------\n",
      "Acc: 68.7%\n",
      "Short Fairness: 0.006\n",
      "Long fairness: 0.003\n",
      "\n",
      "\n"
     ]
    }
   ],
   "source": [
    "_, Xs_te, Ys_te = gen_multi_step_profiles(fm, agent_test, steps=4)\n",
    "OYs_te = generate_y_from_bank(s_test, Xs_te, bank)\n",
    "compute_statistics(s_test, Xs_te, Ys_te, fm, OYs=OYs_te)"
   ]
  }
 ],
 "metadata": {
  "kernelspec": {
   "display_name": "Python 3",
   "language": "python",
   "name": "python3"
  },
  "language_info": {
   "codemirror_mode": {
    "name": "ipython",
    "version": 3
   },
   "file_extension": ".py",
   "mimetype": "text/x-python",
   "name": "python",
   "nbconvert_exporter": "python",
   "pygments_lexer": "ipython3",
   "version": "3.7.10"
  }
 },
 "nbformat": 4,
 "nbformat_minor": 5
}
