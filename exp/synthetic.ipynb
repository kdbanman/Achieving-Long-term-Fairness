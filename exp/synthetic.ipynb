{
 "cells": [
  {
   "cell_type": "code",
   "execution_count": 1,
   "id": "6a91878f",
   "metadata": {},
   "outputs": [],
   "source": [
    "import sys\n",
    "import torch\n",
    "sys.path.append('../src')\n",
    "\n",
    "from generator import *\n",
    "from evaluation import *\n",
    "from fair_model import FairModel\n",
    "from baselines import LR, CvxFairModel, EOFairModel\n",
    "from utils import gen_plot_data, plot_axes, combine_tuples"
   ]
  },
  {
   "cell_type": "code",
   "execution_count": 2,
   "id": "b2935e47",
   "metadata": {},
   "outputs": [],
   "source": [
    "# Build Bank model\n",
    "bank = Bank()\n",
    "agent_train = Agent(n_samples=4000, protect_ratio=0.5, eps=0.5, base=[0.2, 1.0], seed=2021)\n",
    "agent_test = Agent(n_samples=1000, protect_ratio=0.5, eps=0.5, base=[0.2, 1.0], seed=2020)"
   ]
  },
  {
   "cell_type": "code",
   "execution_count": 3,
   "id": "ececb533",
   "metadata": {},
   "outputs": [],
   "source": [
    "# Generate datasets\n",
    "s_train, Xs_train, Ys_train = gen_multi_step_profiles(bank, agent_train, steps=5)\n",
    "s_test, Xs_test, Ys_test = gen_multi_step_profiles(bank, agent_test, steps=5)\n",
    "s_comb, X_comb, Y_comb = combine_tuples(s_train, Xs_train, Ys_train)"
   ]
  },
  {
   "cell_type": "markdown",
   "id": "29224b08",
   "metadata": {},
   "source": [
    "### Baseline: LR"
   ]
  },
  {
   "cell_type": "code",
   "execution_count": 4,
   "id": "949e7dba",
   "metadata": {},
   "outputs": [
    {
     "name": "stdout",
     "output_type": "stream",
     "text": [
      "------------------------------ Step 1 - Logistic Regression ------------------------------\n",
      "Acc: 91.2%\n",
      "Short Fairness: 0.152\n",
      "Long fairness: 0.058\n",
      "------------------------------ Step 2 - Logistic Regression ------------------------------\n",
      "Acc: 89.4%\n",
      "Short Fairness: 0.160\n",
      "Long fairness: 0.117\n",
      "------------------------------ Step 3 - Logistic Regression ------------------------------\n",
      "Acc: 91.7%\n",
      "Short Fairness: 0.166\n",
      "Long fairness: 0.173\n",
      "------------------------------ Step 4 - Logistic Regression ------------------------------\n",
      "Acc: 92.1%\n",
      "Short Fairness: 0.164\n",
      "Long fairness: 0.246\n",
      "------------------------------ Step 5 - Logistic Regression ------------------------------\n",
      "Acc: 91.7%\n",
      "Short Fairness: 0.174\n",
      "Long fairness: 0.340\n",
      "\n",
      "\n"
     ]
    }
   ],
   "source": [
    "lr = LR(l2_reg=1e-5)\n",
    "lr.train(s_comb, X_comb, Y_comb)\n",
    "\n",
    "_, Xs_te, Ys_te = gen_multi_step_profiles(lr, agent_test, steps=5)\n",
    "OYs_te = generate_y_from_bank(s_test, Xs_te, bank)\n",
    "compute_statistics(s_test, Xs_te, Ys_te, lr, OYs=OYs_te)"
   ]
  },
  {
   "cell_type": "markdown",
   "id": "a1c55e0f",
   "metadata": {},
   "source": [
    "### Baseline: FMDP"
   ]
  },
  {
   "cell_type": "code",
   "execution_count": 5,
   "id": "66ad1725",
   "metadata": {},
   "outputs": [
    {
     "name": "stdout",
     "output_type": "stream",
     "text": [
      "optimal\n",
      "------------------------------ Step 1 - Fair Model with Demographic Parity ------------------------------\n",
      "Acc: 73.5%\n",
      "Short Fairness: 0.212\n",
      "Long fairness: 0.180\n",
      "------------------------------ Step 2 - Fair Model with Demographic Parity ------------------------------\n",
      "Acc: 70.6%\n",
      "Short Fairness: 0.216\n",
      "Long fairness: 0.306\n",
      "------------------------------ Step 3 - Fair Model with Demographic Parity ------------------------------\n",
      "Acc: 70.4%\n",
      "Short Fairness: 0.224\n",
      "Long fairness: 0.376\n",
      "------------------------------ Step 4 - Fair Model with Demographic Parity ------------------------------\n",
      "Acc: 70.8%\n",
      "Short Fairness: 0.220\n",
      "Long fairness: 0.431\n",
      "------------------------------ Step 5 - Fair Model with Demographic Parity ------------------------------\n",
      "Acc: 72.5%\n",
      "Short Fairness: 0.232\n",
      "Long fairness: 0.481\n",
      "\n",
      "\n"
     ]
    }
   ],
   "source": [
    "cfm = CvxFairModel(n_features=len(Xs_train[0][0])+2, l2_reg=1e-5, tao=1.565)\n",
    "cfm.train(s_comb, X_comb, Y_comb)\n",
    "\n",
    "_, Xs_te, Ys_te = gen_multi_step_profiles(cfm, agent_test, steps=5)\n",
    "OYs_te = generate_y_from_bank(s_test, Xs_te, bank)\n",
    "compute_statistics(s_test, Xs_te, Ys_te, cfm, OYs=OYs_te)"
   ]
  },
  {
   "cell_type": "markdown",
   "id": "661a5db6",
   "metadata": {},
   "source": [
    "## Baseline: FMEO"
   ]
  },
  {
   "cell_type": "code",
   "execution_count": 6,
   "id": "7e0d59b5",
   "metadata": {},
   "outputs": [
    {
     "name": "stdout",
     "output_type": "stream",
     "text": [
      "optimal\n",
      "------------------------------ Step 1 - Fair Model with Equal Oppertunity ------------------------------\n",
      "Acc: 82.9%\n",
      "Short Fairness: 0.010\n",
      "Long fairness: 0.080\n",
      "------------------------------ Step 2 - Fair Model with Equal Oppertunity ------------------------------\n",
      "Acc: 79.0%\n",
      "Short Fairness: 0.010\n",
      "Long fairness: 0.122\n",
      "------------------------------ Step 3 - Fair Model with Equal Oppertunity ------------------------------\n",
      "Acc: 79.5%\n",
      "Short Fairness: 0.010\n",
      "Long fairness: 0.190\n",
      "------------------------------ Step 4 - Fair Model with Equal Oppertunity ------------------------------\n",
      "Acc: 80.0%\n",
      "Short Fairness: 0.014\n",
      "Long fairness: 0.276\n",
      "------------------------------ Step 5 - Fair Model with Equal Oppertunity ------------------------------\n",
      "Acc: 81.4%\n",
      "Short Fairness: 0.020\n",
      "Long fairness: 0.352\n",
      "\n",
      "\n"
     ]
    }
   ],
   "source": [
    "eqm = EOFairModel(n_features=len(Xs_train[0][0])+2, l2_reg=1e-5, tao=1.5)\n",
    "eqm.train(s_comb, X_comb, Y_comb)\n",
    "\n",
    "_, Xs_te, Ys_te = gen_multi_step_profiles(eqm, agent_test, steps=5)\n",
    "OYs_te = generate_y_from_bank(s_test, Xs_te, bank)\n",
    "compute_statistics(s_test, Xs_te, Ys_te, eqm, OYs=OYs_te)"
   ]
  },
  {
   "cell_type": "markdown",
   "id": "e047c1f3",
   "metadata": {},
   "source": [
    "### Ours"
   ]
  },
  {
   "cell_type": "code",
   "execution_count": 7,
   "id": "9b344cd3",
   "metadata": {},
   "outputs": [
    {
     "name": "stdout",
     "output_type": "stream",
     "text": [
      "Retraining Done!\n"
     ]
    }
   ],
   "source": [
    "fm = FairModel(n_features=len(Xs_train[0][0])+1, lr=5e-3, l2_reg=1e-5, sf_reg=0.119, lf_reg=0.154)\n",
    "fm.train(s_train, Xs_train, Ys_train, Xs_train, Ys_train, epochs=1000, plot=False)\n",
    "\n",
    "num_iters = 50\n",
    "\n",
    "theta_true = fm.params\n",
    "theta_list     = [np.copy(theta_true)]\n",
    "theta_gaps     = []\n",
    "\n",
    "\n",
    "# inital theta\n",
    "theta = np.copy(theta_true)\n",
    "\n",
    "for t in range(num_iters):\n",
    "    # adjust distribution to current theta\n",
    "    _, NXs_train, NYs_train = gen_multi_step_profiles(fm, agent_train, steps=5)\n",
    "    # learn on induced distribution\n",
    "    fm.train(s_train, Xs_train, Ys_train, NXs_train, NYs_train, epochs=10, plot=False)\n",
    "    \n",
    "    # keep track of statistic\n",
    "    theta_new = fm.params\n",
    "    theta_gaps.append(np.linalg.norm(theta_new - theta))\n",
    "    theta_list.append(np.copy(theta_new))\n",
    "\n",
    "    theta = np.copy(theta_new)\n",
    "print(\"Retraining Done!\")"
   ]
  },
  {
   "cell_type": "code",
   "execution_count": 8,
   "id": "d4ede5ab",
   "metadata": {},
   "outputs": [
    {
     "name": "stdout",
     "output_type": "stream",
     "text": [
      "------------------------------ Step 1 - Long-term Fair Model ------------------------------\n",
      "Acc: 80.1%\n",
      "Short Fairness: 0.012\n",
      "Long fairness: 0.040\n",
      "------------------------------ Step 2 - Long-term Fair Model ------------------------------\n",
      "Acc: 75.4%\n",
      "Short Fairness: 0.008\n",
      "Long fairness: 0.024\n",
      "------------------------------ Step 3 - Long-term Fair Model ------------------------------\n",
      "Acc: 72.9%\n",
      "Short Fairness: 0.012\n",
      "Long fairness: 0.020\n",
      "------------------------------ Step 4 - Long-term Fair Model ------------------------------\n",
      "Acc: 70.7%\n",
      "Short Fairness: 0.008\n",
      "Long fairness: 0.012\n",
      "------------------------------ Step 5 - Long-term Fair Model ------------------------------\n",
      "Acc: 69.2%\n",
      "Short Fairness: 0.002\n",
      "Long fairness: 0.002\n",
      "\n",
      "\n"
     ]
    }
   ],
   "source": [
    "_, Xs_te, Ys_te = gen_multi_step_profiles(fm, agent_test, steps=5)\n",
    "OYs_te = generate_y_from_bank(s_test, Xs_te, bank)\n",
    "compute_statistics(s_test, Xs_te, Ys_te, fm, OYs=OYs_te)"
   ]
  }
 ],
 "metadata": {
  "kernelspec": {
   "display_name": "Python 3",
   "language": "python",
   "name": "python3"
  },
  "language_info": {
   "codemirror_mode": {
    "name": "ipython",
    "version": 3
   },
   "file_extension": ".py",
   "mimetype": "text/x-python",
   "name": "python",
   "nbconvert_exporter": "python",
   "pygments_lexer": "ipython3",
   "version": "3.7.10"
  }
 },
 "nbformat": 4,
 "nbformat_minor": 5
}
